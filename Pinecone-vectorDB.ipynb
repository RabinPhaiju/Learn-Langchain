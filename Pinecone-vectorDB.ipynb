{
 "cells": [
  {
   "cell_type": "markdown",
   "metadata": {},
   "source": [
    "## Llama 3 [docs](https://scontent.fktm6-1.fna.fbcdn.net/v/t39.2365-6/453304228_1160109801904614_7143520450792086005_n.pdf?_nc_cat=108&ccb=1-7&_nc_sid=3c67a6&_nc_ohc=FwYrXqt8EN8Q7kNvgGu4ixg&_nc_ht=scontent.fktm6-1.fna&oh=00_AYAbKc2EJnmRq-Yh8Qh9pbNRd5UbcIR75zjlcL3P16iPsA&oe=66D9B407)\n",
    "\n",
    "- 1 pdf\n",
    "- 2 convert to text chunks\n",
    "- 3 convert to vectors using embedding\n",
    "- 4 store in vectorSearchDB\n",
    "- 5 similarity search of query by human"
   ]
  },
  {
   "cell_type": "code",
   "execution_count": 43,
   "metadata": {},
   "outputs": [],
   "source": [
    "# %pip install pinecone==5.1.0\n",
    "# %pip install \"pinecone-client[grpc]\""
   ]
  },
  {
   "cell_type": "code",
   "execution_count": 21,
   "metadata": {},
   "outputs": [],
   "source": [
    "import langchain\n",
    "import pinecone\n",
    "from langchain.llms import Ollama\n",
    "from langchain.document_loaders import PyPDFLoader,PyPDFDirectoryLoader\n",
    "from langchain.text_splitter import CharacterTextSplitter,RecursiveCharacterTextSplitter\n",
    "from langchain.vectorstores import Pinecone"
   ]
  },
  {
   "cell_type": "code",
   "execution_count": 2,
   "metadata": {},
   "outputs": [],
   "source": [
    "from langchain.embeddings.base import Embeddings\n",
    "import requests\n",
    "\n",
    "class OllamaEmbeddings(Embeddings):\n",
    "    def __init__(self, model_name, ollama_url='http://localhost:11434'):\n",
    "        self.model_name = model_name\n",
    "        self.ollama_url = ollama_url\n",
    "    \n",
    "    def embed_documents(self, texts):\n",
    "        return [self._get_embedding(text) for text in texts]\n",
    "    \n",
    "    def embed_query(self, text):\n",
    "        return self._get_embedding(text)\n",
    "    \n",
    "    def _get_embedding(self, text):\n",
    "        response = requests.post(\n",
    "            f'{self.ollama_url}/api/embeddings',\n",
    "            json={\n",
    "                \"model\": self.model_name,\n",
    "                \"prompt\": text\n",
    "            }\n",
    "        )\n",
    "        response.raise_for_status()\n",
    "        return response.json()['embedding']  # Adjust if the key is different\n"
   ]
  },
  {
   "cell_type": "code",
   "execution_count": 3,
   "metadata": {},
   "outputs": [],
   "source": [
    "file = 'budget.pdf'\n",
    "loader = PyPDFLoader(file_path=file)\n",
    "doc = loader.load()"
   ]
  },
  {
   "cell_type": "code",
   "execution_count": 4,
   "metadata": {},
   "outputs": [
    {
     "data": {
      "text/plain": [
       "[Document(metadata={'source': 'budget.pdf', 'page': 0}, page_content='GOVERNMENT OF INDIA\\nBUDGET 2023-2024\\nSPEECH\\nOF\\nNIRMALA SITHARAMAN\\nMINISTER OF FINANCE\\nFebruary 1,  2023'),\n",
       " Document(metadata={'source': 'budget.pdf', 'page': 1}, page_content=''),\n",
       " Document(metadata={'source': 'budget.pdf', 'page': 2}, page_content='CONTENTS \\nPART-A \\n Page No.  \\n\\uf0b7 Introduction 1 \\n\\uf0b7 Achievements since 2014: Leaving no one behind 2 \\n\\uf0b7 Vision for Amrit Kaal  – an empowered and inclusive economy 3 \\n\\uf0b7 Priorities of this Budget 5 \\ni. Inclusive Development  \\nii. Reaching the Last Mile \\niii. Infrastructure and Investment \\niv. Unleashing the Potential \\nv. Green Growth \\nvi. Youth Power  \\nvii. Financial Sector  \\n \\n \\n \\n \\n \\n \\n \\n \\n\\uf0b7 Fiscal Management 24 \\nPART B  \\n  \\nIndirect Taxes  27 \\n\\uf0b7 Green Mobility  \\n\\uf0b7 Electronics   \\n\\uf0b7 Electrical   \\n\\uf0b7 Chemicals and Petrochemicals   \\n\\uf0b7 Marine products  \\n\\uf0b7 Lab Grown Diamonds  \\n\\uf0b7 Precious Metals  \\n\\uf0b7 Metals  \\n\\uf0b7 Compounded Rubber  \\n\\uf0b7 Cigarettes  \\n  \\nDirect Taxes  30 \\n\\uf0b7 MSMEs and Professionals   \\n\\uf0b7 Cooperation  \\n\\uf0b7 Start-Ups  \\n\\uf0b7 Appeals  \\n\\uf0b7 Better targeting of tax concessions  \\n\\uf0b7 Rationalisation  \\n\\uf0b7 Others  \\n\\uf0b7 Personal Income Tax  \\n  \\nAnnexures  35 \\n\\uf0b7 Annexure to Part B of the Budget Speech 2023-24 \\ni. Amendments relating to Direct Taxes \\nii. Amendments relating to Indirect Taxes  \\n '),\n",
       " Document(metadata={'source': 'budget.pdf', 'page': 3}, page_content='')]"
      ]
     },
     "execution_count": 4,
     "metadata": {},
     "output_type": "execute_result"
    }
   ],
   "source": [
    "loader.load()[:4]"
   ]
  },
  {
   "cell_type": "code",
   "execution_count": 5,
   "metadata": {},
   "outputs": [],
   "source": [
    "# divide the docs into chunks\n",
    "def chunk_data(docs, chunk_size=800,chunk_overlap=50):\n",
    "    text_splitter = RecursiveCharacterTextSplitter(chunk_size=chunk_size, chunk_overlap=chunk_overlap)\n",
    "    return text_splitter.split_documents(docs)"
   ]
  },
  {
   "cell_type": "code",
   "execution_count": 6,
   "metadata": {},
   "outputs": [
    {
     "name": "stdout",
     "output_type": "stream",
     "text": [
      "len: 141\n"
     ]
    },
    {
     "data": {
      "text/plain": [
       "[Document(metadata={'source': 'budget.pdf', 'page': 0}, page_content='GOVERNMENT OF INDIA\\nBUDGET 2023-2024\\nSPEECH\\nOF\\nNIRMALA SITHARAMAN\\nMINISTER OF FINANCE\\nFebruary 1,  2023'),\n",
       " Document(metadata={'source': 'budget.pdf', 'page': 2}, page_content='CONTENTS \\nPART-A \\n Page No.  \\n\\uf0b7 Introduction 1 \\n\\uf0b7 Achievements since 2014: Leaving no one behind 2 \\n\\uf0b7 Vision for Amrit Kaal  – an empowered and inclusive economy 3 \\n\\uf0b7 Priorities of this Budget 5 \\ni. Inclusive Development  \\nii. Reaching the Last Mile \\niii. Infrastructure and Investment \\niv. Unleashing the Potential \\nv. Green Growth \\nvi. Youth Power  \\nvii. Financial Sector  \\n \\n \\n \\n \\n \\n \\n \\n \\n\\uf0b7 Fiscal Management 24 \\nPART B  \\n  \\nIndirect Taxes  27 \\n\\uf0b7 Green Mobility  \\n\\uf0b7 Electronics   \\n\\uf0b7 Electrical   \\n\\uf0b7 Chemicals and Petrochemicals   \\n\\uf0b7 Marine products  \\n\\uf0b7 Lab Grown Diamonds  \\n\\uf0b7 Precious Metals  \\n\\uf0b7 Metals  \\n\\uf0b7 Compounded Rubber  \\n\\uf0b7 Cigarettes  \\n  \\nDirect Taxes  30 \\n\\uf0b7 MSMEs and Professionals   \\n\\uf0b7 Cooperation  \\n\\uf0b7 Start-Ups  \\n\\uf0b7 Appeals  \\n\\uf0b7 Better targeting of tax concessions  \\n\\uf0b7 Rationalisation'),\n",
       " Document(metadata={'source': 'budget.pdf', 'page': 2}, page_content='\\uf0b7 Rationalisation  \\n\\uf0b7 Others  \\n\\uf0b7 Personal Income Tax  \\n  \\nAnnexures  35 \\n\\uf0b7 Annexure to Part B of the Budget Speech 2023-24 \\ni. Amendments relating to Direct Taxes \\nii. Amendments relating to Indirect Taxes'),\n",
       " Document(metadata={'source': 'budget.pdf', 'page': 4}, page_content='Budget 2023-2024 \\n \\nSpeech of  \\nNirmala Sitharaman \\nMinister of Finance \\nFebruary 1, 2023 \\nHon’ble Speaker,  \\n I present the Budget for 2023-24. This is the first Budget in Amrit \\nKaal . \\nIntroduction \\n1. This Budget hopes to build on the foundation laid in the previous \\nBudget, and the blueprint drawn for India@100. We envision a prosperous \\nand inclusive India, in which the fruits of development reach all regions and \\ncitizens, especially our youth, women, farmers, OBCs, Scheduled Castes and \\nScheduled Tribes.  \\n2. In the 75th year of our Independence, the world has recognised the \\nIndian economy as a ‘bright star’. Our current year’s economic growth is \\nestimated to be at 7 per cent. It is notable that this is the highest among all')]"
      ]
     },
     "execution_count": 6,
     "metadata": {},
     "output_type": "execute_result"
    }
   ],
   "source": [
    "document = chunk_data(doc)\n",
    "print(f\"len: {len(document)}\")\n",
    "document[:4]"
   ]
  },
  {
   "cell_type": "code",
   "execution_count": 104,
   "metadata": {},
   "outputs": [],
   "source": [
    "llm = Ollama(temperature = 0.0, model=\"qwen2:1.5b\")\n",
    "# llm = Ollama(temperature = 0.0, model=\"llama3.1:8b-instruct-q2_K\")\n",
    "\n",
    "embedding = OllamaEmbeddings(model_name=\"nomic-embed-text\")\n",
    "# openAI embeddings\n",
    "# embedding = OpenAIEmbeddings(api_key=\"your-api-key\")"
   ]
  },
  {
   "cell_type": "code",
   "execution_count": 8,
   "metadata": {},
   "outputs": [
    {
     "data": {
      "text/plain": [
       "768"
      ]
     },
     "execution_count": 8,
     "metadata": {},
     "output_type": "execute_result"
    }
   ],
   "source": [
    "vectors = embedding.embed_query(\"What is the budget of 2023\")\n",
    "len(vectors)"
   ]
  },
  {
   "cell_type": "markdown",
   "metadata": {},
   "source": [
    "### vector search db in pinecone [docs](https://docs.pinecone.io/home)"
   ]
  },
  {
   "cell_type": "code",
   "execution_count": 88,
   "metadata": {},
   "outputs": [],
   "source": [
    "from pinecone import ServerlessSpec\n",
    "\n",
    "PINECONE_API_KEY=\"d7f6f00b-2910-4d66-9233-39f168b178d7\"\n",
    "region=\"us-east-1\"\n",
    "pc = Pinecone(api_key=PINECONE_API_KEY)\n",
    "\n",
    "index_name = \"langchainvector\"\n",
    "\n",
    "if index_name not in pc.list_indexes().names():\n",
    "    pc.create_index(\n",
    "        name=index_name,\n",
    "        dimension=768,\n",
    "        metric=\"cosine\",\n",
    "        spec=ServerlessSpec(\n",
    "            cloud='aws', \n",
    "            region=region\n",
    "        ) \n",
    "    ) \n"
   ]
  },
  {
   "cell_type": "code",
   "execution_count": 25,
   "metadata": {},
   "outputs": [],
   "source": [
    "# create vectors\n",
    "doc_vector = []\n",
    "for doc in document:\n",
    "    vector = embedding.embed_query(doc.page_content)\n",
    "    doc_vector.append({\"id\": str(doc.metadata[\"page\"]), \"values\": vector, \"metadata\": {\"source\": doc.metadata[\"source\"], \"page\": doc.metadata[\"page\"], \"text\": doc.page_content}})"
   ]
  },
  {
   "cell_type": "code",
   "execution_count": 46,
   "metadata": {},
   "outputs": [],
   "source": [
    "index = pc.Index(index_name)\n",
    "\n",
    "# index.describe_index_stats()\n",
    "#\n",
    "# index.upsert(\n",
    "#     vectors=doc_vector,\n",
    "#     namespace=\"namespace1\"\n",
    "# )\n"
   ]
  },
  {
   "cell_type": "code",
   "execution_count": 67,
   "metadata": {},
   "outputs": [],
   "source": [
    "# cosine similarity retrieval\n",
    "def retrieve_similarity(query, top_k=5):\n",
    "    query_vector = embedding.embed_query(query)\n",
    "    result = index.query(namespace=\"namespace1\",vector=query_vector, top_k=top_k,include_values=True,include_metadata=True)\n",
    "    return result"
   ]
  },
  {
   "cell_type": "code",
   "execution_count": 83,
   "metadata": {},
   "outputs": [],
   "source": [
    "from langchain.chains.question_answering import load_qa_chain\n",
    "from langchain.schema import Document"
   ]
  },
  {
   "cell_type": "code",
   "execution_count": 105,
   "metadata": {},
   "outputs": [],
   "source": [
    "\n",
    "chain = load_qa_chain(llm, chain_type=\"stuff\")"
   ]
  },
  {
   "cell_type": "code",
   "execution_count": 106,
   "metadata": {},
   "outputs": [],
   "source": [
    "# search answer from vector DB\n",
    "def retrieve_answer(query):\n",
    "    doc_search = retrieve_similarity(query,top_k=2)\n",
    "    # print(doc_search)\n",
    "    input_docs = [Document(page_content=match['metadata']['text'], metadata=match['metadata']) for match in doc_search['matches']]\n",
    "    response = chain.run(input_documents=input_docs, question=query)\n",
    "    return response"
   ]
  },
  {
   "cell_type": "code",
   "execution_count": 107,
   "metadata": {},
   "outputs": [
    {
     "name": "stdout",
     "output_type": "stream",
     "text": [
      "The budget for 2024 is estimated to be around 41.9 lakh crore, with a capital expenditure of about 7.3 lakh crore.\n"
     ]
    }
   ],
   "source": [
    "our_query = \"What is the budget of 2024\"\n",
    "\n",
    "response = retrieve_answer(our_query)\n",
    "print(response)"
   ]
  },
  {
   "cell_type": "code",
   "execution_count": null,
   "metadata": {},
   "outputs": [],
   "source": []
  }
 ],
 "metadata": {
  "kernelspec": {
   "display_name": "venv",
   "language": "python",
   "name": "python3"
  },
  "language_info": {
   "codemirror_mode": {
    "name": "ipython",
    "version": 3
   },
   "file_extension": ".py",
   "mimetype": "text/x-python",
   "name": "python",
   "nbconvert_exporter": "python",
   "pygments_lexer": "ipython3",
   "version": "3.10.11"
  }
 },
 "nbformat": 4,
 "nbformat_minor": 2
}
